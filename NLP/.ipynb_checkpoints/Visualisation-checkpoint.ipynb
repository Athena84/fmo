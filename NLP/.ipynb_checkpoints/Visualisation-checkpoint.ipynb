{
 "cells": [
  {
   "cell_type": "code",
   "execution_count": 133,
   "id": "cdbcb033",
   "metadata": {},
   "outputs": [],
   "source": [
    "import pandas as pd\n",
    "import numpy as np\n",
    "import re\n",
    "from pathlib import Path\n",
    "from matplotlib import pyplot as plt\n",
    "import seaborn as sns"
   ]
  },
  {
   "cell_type": "code",
   "execution_count": 106,
   "id": "29129e0b",
   "metadata": {},
   "outputs": [],
   "source": [
    "def convert_currency(amount):\n",
    "\n",
    "    number = float(re.search(r'\\s(\\d+\\.\\d+)', amount).group(1))\n",
    "\n",
    "    currency = amount[:3]\n",
    "    if currency != \"EUR\":\n",
    "        if currency == \"BOB\":\n",
    "            conv = 8.3725\n",
    "        elif currency == \"DKK\":\n",
    "            conv = 7.4374\n",
    "        elif currency == \"GEL\":\n",
    "            conv = 3.8279\n",
    "        elif currency == \"INR\":\n",
    "            conv = 88.6972\n",
    "        elif currency == \"JOD\":\n",
    "            conv = 0.8585\n",
    "        elif currency == \"KES\":\n",
    "            conv = 130.5909\n",
    "        elif currency == \"LKR\":\n",
    "            conv = 239.5998\n",
    "        elif currency == \"NGN\":\n",
    "            conv = 498.8897\n",
    "        elif currency == \"NPR\":\n",
    "            conv = 142.5807\n",
    "        elif currency == \"TRY\":\n",
    "            conv = 10.1572\n",
    "        elif currency == \"USD\":\n",
    "            conv = 1.2108\n",
    "        elif currency == \"ZAR\":\n",
    "            conv = 16.6102\n",
    "        else:\n",
    "            print(\"warning, non-defined currency in dataset\")\n",
    "            conv = 1\n",
    "\n",
    "        number = number / conv\n",
    "\n",
    "    return number\n",
    "\n",
    "def check_search_term(description, search_terms):\n",
    "    for term in search_terms:\n",
    "        if term in description:\n",
    "            return 1\n",
    "    return 0"
   ]
  },
  {
   "cell_type": "code",
   "execution_count": 107,
   "id": "79f91d68",
   "metadata": {},
   "outputs": [],
   "source": [
    "#Reading the data\n",
    "folder = Path(\"/Users/nielskreuk/Dropbox/DataScience/Exercises/NYCDSA/ScrapingProject/fmo/scrapeddata\")\n",
    "file_to_open = folder / \"fmo.csv\"\n",
    "cols = pd.read_csv(file_to_open, sep=\";\", nrows=1).columns\n",
    "df = pd.read_csv(file_to_open, sep=\";\", usecols=cols[:6]) #Leave out couple of empty columns at end of file"
   ]
  },
  {
   "cell_type": "code",
   "execution_count": 108,
   "id": "d9ce9e3d",
   "metadata": {},
   "outputs": [],
   "source": [
    "#add a column with converted amounts in EUR as numbers\n",
    "df[\"mEUR_amounts\"] = [convert_currency(amount) for amount in df[\"amount\"]]"
   ]
  },
  {
   "cell_type": "code",
   "execution_count": 109,
   "id": "f5150b42",
   "metadata": {},
   "outputs": [],
   "source": [
    "#Test investments for being other fund rather than direct\n",
    "search_terms = [\"fund\", \"vehicle\"]\n",
    "df[\"fund\"] = [check_search_term(description, search_terms) for description in df[\"description\"]]\n",
    "\n",
    "#Test climate\n",
    "search_terms = [\"green\", \"renewable\", \"climate\", \"sustainable\", \"environmental\"]\n",
    "df[\"climate\"] = [check_search_term(description, search_terms) for description in df[\"description\"]]\n",
    "\n",
    "#Test economic inclusion\n",
    "search_terms = [\"inclusive\", \"inclusion\", \"affordable housing\", \"empowerment\", \"microfinance\", \"smallholder\", \"ineqaulity\", \"sme\", \"smes\", \"small and medium sized enterprise\", \"family-owned\", \"low-income\", \"job opportunities\", \"mid-market\", \"middle-market\", \"early stage\", \"unemployment\", \"local enterprise\", \"medium-sized\", \"lower mid-cap\"]\n",
    "df[\"inclusion\"] = [check_search_term(description, search_terms) for description in df[\"description\"]]\n",
    "\n",
    "#Test economic growth\n",
    "search_terms = [\"economic growth\", \" gdp growth\", \"economic development\", \"emerging\", \"upcoming\", \"efficiency\", \"readily available\", \"ecosystem\"]\n",
    "df[\"economic_growth\"] = [check_search_term(description, search_terms) for description in df[\"description\"]]\n",
    "\n",
    "#Test gender\n",
    "search_terms = [\"gender\", \"female\", \"women\"]\n",
    "df[\"gender\"] = [check_search_term(description, search_terms) for description in df[\"description\"]]\n",
    "\n",
    "#Test human rights\n",
    "search_terms = [\"equal rigths\", \"human rights\", \"justice\", \"governance\", \"labor standards\", \"hse\"]\n",
    "df[\"human_rights\"] = [check_search_term(description, search_terms) for description in df[\"description\"]]\n",
    "\n",
    "#Test education\n",
    "search_terms = [\"education\"]\n",
    "df[\"education\"] = [check_search_term(description, search_terms) for description in df[\"description\"]]\n",
    "\n",
    "#Test food security\n",
    "search_terms = [\"food security\", \"hunger\", \"clean water\", \"drinking water\"]\n",
    "df[\"food_security\"] = [check_search_term(description, search_terms) for description in df[\"description\"]]\n",
    "\n",
    "\n",
    "\n",
    "#Check multi-goal investments\n",
    "df[\"num_goals\"] = df[\"inclusion\"] + df[\"food_security\"] + df[\"climate\"] + df[\"gender\"] + df[\"human_rights\"] + df[\"education\"] + df[\"economic_growth\"]\n",
    "mask_multi = (df[\"num_goals\"] > 1)\n",
    "mask_noGoals = (df[\"num_goals\"] == 0)"
   ]
  },
  {
   "cell_type": "code",
   "execution_count": 110,
   "id": "6c216569",
   "metadata": {},
   "outputs": [],
   "source": [
    "file_to_write = folder / \"fmo_categorized.csv\"\n",
    "df.to_csv(file_to_write, sep=\";\")"
   ]
  },
  {
   "cell_type": "code",
   "execution_count": 111,
   "id": "2a6ed2c5",
   "metadata": {},
   "outputs": [
    {
     "name": "stdout",
     "output_type": "stream",
     "text": [
      "1648\n"
     ]
    }
   ],
   "source": [
    "print(df[\"num_goals\"].sum())"
   ]
  },
  {
   "cell_type": "code",
   "execution_count": 112,
   "id": "d0571f68",
   "metadata": {},
   "outputs": [
    {
     "data": {
      "image/png": "[encoded data removed]",
      "text/plain": [
       "<Figure size 720x504 with 1 Axes>"
      ]
     },
     "metadata": {
      "needs_background": "light"
     },
     "output_type": "display_data"
    }
   ],
   "source": [
    "fig = plt.figure(figsize =(10, 7))\n",
    "ax = fig.add_subplot(111)\n",
    "plot_data = df.loc[(df[\"fund\"] == 1), [\"mEUR_amounts\"]] # df.loc[(df[\"fund\"] == 0), [\"EUR_amounts\"]]\n",
    "bp = ax.boxplot(plot_data, patch_artist = True,\n",
    "                notch ='True', vert = 0, showfliers = False)\n",
    "plt.show()"
   ]
  },
  {
   "cell_type": "code",
   "execution_count": 113,
   "id": "9ecde283",
   "metadata": {},
   "outputs": [
    {
     "data": {
      "image/png": "[encoded data removed]",
      "text/plain": [
       "<Figure size 720x504 with 1 Axes>"
      ]
     },
     "metadata": {
      "needs_background": "light"
     },
     "output_type": "display_data"
    }
   ],
   "source": [
    "fig = plt.figure(figsize =(10, 7))\n",
    "ax = fig.add_subplot(111)\n",
    "plot_data = df.loc[(df[\"fund\"] == 0), [\"mEUR_amounts\"]] \n",
    "bp = ax.boxplot(plot_data, patch_artist = True,\n",
    "                notch ='True', vert = 0, showfliers = False)\n",
    "plt.show()"
   ]
  },
  {
   "cell_type": "code",
   "execution_count": 114,
   "id": "b74bca70",
   "metadata": {},
   "outputs": [
    {
     "data": {
      "text/plain": [
       "<seaborn.axisgrid.FacetGrid at 0x7f8558104ee0>"
      ]
     },
     "execution_count": 114,
     "metadata": {},
     "output_type": "execute_result"
    },
    {
     "data": {
      "image/png": "[encoded data removed]",
      "text/plain": [
       "<Figure size 360x360 with 1 Axes>"
      ]
     },
     "metadata": {
      "needs_background": "light"
     },
     "output_type": "display_data"
    }
   ],
   "source": [
    "sns.catplot(x=\"fund\", y=\"mEUR_amounts\", kind=\"boxen\", data=df, showfliers = False)"
   ]
  },
  {
   "cell_type": "code",
   "execution_count": 115,
   "id": "3c9a58b7",
   "metadata": {},
   "outputs": [],
   "source": [
    "#Grab counting columns\n",
    "plot_data_goals = df.iloc[: , 8:15]\n",
    "#plot_data_goals"
   ]
  },
  {
   "cell_type": "code",
   "execution_count": 116,
   "id": "071a9de6",
   "metadata": {},
   "outputs": [],
   "source": [
    "#Calculate amount columns\n",
    "plot_data_amount = plot_data_goals.mul(df[\"mEUR_amounts\"], axis=0) \n",
    "#plot_data_amount"
   ]
  },
  {
   "cell_type": "code",
   "execution_count": 117,
   "id": "1e43966c",
   "metadata": {},
   "outputs": [
    {
     "data": {
      "text/plain": [
       "<seaborn.axisgrid.FacetGrid at 0x7f8588f8aa90>"
      ]
     },
     "execution_count": 117,
     "metadata": {},
     "output_type": "execute_result"
    },
    {
     "data": {
      "image/png": "[encoded data removed]",
      "text/plain": [
       "<Figure size 360x360 with 1 Axes>"
      ]
     },
     "metadata": {
      "needs_background": "light"
     },
     "output_type": "display_data"
    }
   ],
   "source": [
    "sns.catplot(kind=\"bar\", data=plot_data_goals, ci = None, estimator=sum, orient = \"h\")"
   ]
  },
  {
   "cell_type": "code",
   "execution_count": 118,
   "id": "ced39a4a",
   "metadata": {},
   "outputs": [
    {
     "data": {
      "text/plain": [
       "<seaborn.axisgrid.FacetGrid at 0x7f85b83a2a90>"
      ]
     },
     "execution_count": 118,
     "metadata": {},
     "output_type": "execute_result"
    },
    {
     "data": {
      "image/png": "[encoded data removed]",
      "text/plain": [
       "<Figure size 360x360 with 1 Axes>"
      ]
     },
     "metadata": {
      "needs_background": "light"
     },
     "output_type": "display_data"
    }
   ],
   "source": [
    "sns.catplot(kind=\"bar\", data=plot_data_amount, ci = None, estimator=sum, orient = \"h\")"
   ]
  },
  {
   "cell_type": "code",
   "execution_count": 132,
   "id": "8ac1fe06",
   "metadata": {},
   "outputs": [
    {
     "data": {
      "text/plain": [
       "<seaborn.axisgrid.FacetGrid at 0x7f85b8815670>"
      ]
     },
     "execution_count": 132,
     "metadata": {},
     "output_type": "execute_result"
    },
    {
     "data": {
      "image/png": "[encoded data removed]",
      "text/plain": [
       "<Figure size 360x360 with 1 Axes>"
      ]
     },
     "metadata": {
      "needs_background": "light"
     },
     "output_type": "display_data"
    }
   ],
   "source": [
    "sns.catplot(kind=\"bar\", data=plot_data_amount, ci = None, orient = \"h\")"
   ]
  },
  {
   "cell_type": "code",
   "execution_count": 119,
   "id": "fb0b5d44",
   "metadata": {},
   "outputs": [
    {
     "data": {
      "text/plain": [
       "<AxesSubplot:xlabel='fund', ylabel='mEUR_amounts'>"
      ]
     },
     "execution_count": 119,
     "metadata": {},
     "output_type": "execute_result"
    },
    {
     "data": {
      "image/png": "[encoded data removed]",
      "text/plain": [
       "<Figure size 432x288 with 1 Axes>"
      ]
     },
     "metadata": {
      "needs_background": "light"
     },
     "output_type": "display_data"
    }
   ],
   "source": [
    "sns.barplot(data=df, x=\"fund\", y=\"mEUR_amounts\", ci = None)"
   ]
  },
  {
   "cell_type": "code",
   "execution_count": 120,
   "id": "c25c6beb",
   "metadata": {},
   "outputs": [
    {
     "data": {
      "text/plain": [
       "<AxesSubplot:xlabel='fund', ylabel='mEUR_amounts'>"
      ]
     },
     "execution_count": 120,
     "metadata": {},
     "output_type": "execute_result"
    },
    {
     "data": {
      "image/png": "[encoded data removed]",
      "text/plain": [
       "<Figure size 432x288 with 1 Axes>"
      ]
     },
     "metadata": {
      "needs_background": "light"
     },
     "output_type": "display_data"
    }
   ],
   "source": [
    "sns.barplot(data=df, x=\"fund\", y=\"mEUR_amounts\", ci = None,estimator=sum)"
   ]
  },
  {
   "cell_type": "code",
   "execution_count": 121,
   "id": "9a36fcaa",
   "metadata": {},
   "outputs": [
    {
     "data": {
      "text/plain": [
       "<AxesSubplot:xlabel='fund', ylabel='count'>"
      ]
     },
     "execution_count": 121,
     "metadata": {},
     "output_type": "execute_result"
    },
    {
     "data": {
      "image/png": "[encoded data removed]",
      "text/plain": [
       "<Figure size 432x288 with 1 Axes>"
      ]
     },
     "metadata": {
      "needs_background": "light"
     },
     "output_type": "display_data"
    }
   ],
   "source": [
    "sns.countplot(data=df, x=\"fund\")"
   ]
  },
  {
   "cell_type": "code",
   "execution_count": 122,
   "id": "9cad67a4",
   "metadata": {},
   "outputs": [
    {
     "data": {
      "text/plain": [
       "<AxesSubplot:xlabel='num_goals', ylabel='mEUR_amounts'>"
      ]
     },
     "execution_count": 122,
     "metadata": {},
     "output_type": "execute_result"
    },
    {
     "data": {
      "image/png": "[encoded data removed]",
      "text/plain": [
       "<Figure size 432x288 with 1 Axes>"
      ]
     },
     "metadata": {
      "needs_background": "light"
     },
     "output_type": "display_data"
    }
   ],
   "source": [
    "sns.barplot(data=df, x=\"num_goals\", y=\"mEUR_amounts\", ci = None,estimator=sum)"
   ]
  },
  {
   "cell_type": "code",
   "execution_count": 124,
   "id": "a1082a59",
   "metadata": {},
   "outputs": [
    {
     "data": {
      "text/plain": [
       "<AxesSubplot:xlabel='num_goals', ylabel='count'>"
      ]
     },
     "execution_count": 124,
     "metadata": {},
     "output_type": "execute_result"
    },
    {
     "data": {
      "image/png": "[encoded data removed]",
      "text/plain": [
       "<Figure size 432x288 with 1 Axes>"
      ]
     },
     "metadata": {
      "needs_background": "light"
     },
     "output_type": "display_data"
    }
   ],
   "source": [
    "sns.countplot(data=df, x=\"num_goals\")"
   ]
  },
  {
   "cell_type": "code",
   "execution_count": 126,
   "id": "4311fb24",
   "metadata": {},
   "outputs": [
    {
     "data": {
      "text/plain": [
       "<seaborn.axisgrid.FacetGrid at 0x7f858b7a5e20>"
      ]
     },
     "execution_count": 126,
     "metadata": {},
     "output_type": "execute_result"
    },
    {
     "data": {
      "image/png": "[encoded data removed]",
      "text/plain": [
       "<Figure size 360x360 with 1 Axes>"
      ]
     },
     "metadata": {
      "needs_background": "light"
     },
     "output_type": "display_data"
    }
   ],
   "source": [
    "sns.catplot(kind=\"boxen\", data=plot_data_amount, showfliers = False, orient = \"h\")"
   ]
  },
  {
   "cell_type": "code",
   "execution_count": 247,
   "id": "c7837ccb",
   "metadata": {},
   "outputs": [],
   "source": [
    "category_sums = plot_data_amount.sum(axis=0)\n",
    "category_sums_single = plot_data_amount.mul((df[\"num_goals\"] == 1), axis=0).sum(axis=0)\n",
    "single_fraction = category_sums_single / category_sums\n",
    "single_fraction.sort_values(ascending=False, inplace=True)"
   ]
  },
  {
   "cell_type": "code",
   "execution_count": 251,
   "id": "eb1e0051",
   "metadata": {},
   "outputs": [],
   "source": [
    "single_fraction = np.array(single_fraction).reshape(-1,1).T\n",
    "single_fraction = pd.DataFrame(single_fraction, columns = [\"climate\", \"inclusion\", \"economic_growth\", \"gender\", \"human_rights\", \"education\", \"food_security\"])"
   ]
  },
  {
   "cell_type": "code",
   "execution_count": 253,
   "id": "f5e174f7",
   "metadata": {},
   "outputs": [
    {
     "data": {
      "text/plain": [
       "<AxesSubplot:>"
      ]
     },
     "execution_count": 253,
     "metadata": {},
     "output_type": "execute_result"
    },
    {
     "data": {
      "image/png": "[encoded data removed]",
      "text/plain": [
       "<Figure size 432x288 with 1 Axes>"
      ]
     },
     "metadata": {
      "needs_background": "light"
     },
     "output_type": "display_data"
    }
   ],
   "source": [
    "sns.barplot(data=single_fraction, ci = None, orient = \"h\")"
   ]
  },
  {
   "cell_type": "code",
   "execution_count": null,
   "id": "2de33f28",
   "metadata": {},
   "outputs": [],
   "source": []
  },
  {
   "cell_type": "code",
   "execution_count": null,
   "id": "b376541e",
   "metadata": {},
   "outputs": [],
   "source": []
  }
 ],
 "metadata": {
  "kernelspec": {
   "display_name": "Python 3",
   "language": "python",
   "name": "python3"
  },
  "language_info": {
   "codemirror_mode": {
    "name": "ipython",
    "version": 3
   },
   "file_extension": ".py",
   "mimetype": "text/x-python",
   "name": "python",
   "nbconvert_exporter": "python",
   "pygments_lexer": "ipython3",
   "version": "3.8.8"
  }
 },
 "nbformat": 4,
 "nbformat_minor": 5
}
