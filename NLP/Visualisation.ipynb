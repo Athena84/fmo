{
 "cells": [
  {
   "cell_type": "code",
   "execution_count": 3,
   "id": "79f91d68",
   "metadata": {},
   "outputs": [],
   "source": [
    "import pandas as pd\n",
    "import re\n",
    "from pathlib import Path\n",
    "\n",
    "def convert_currency(amount):\n",
    "\n",
    "    number = 1000 * float(re.search(r'\\s(\\d+\\.\\d+)', amount).group(1))\n",
    "\n",
    "    currency = amount[:3]\n",
    "    if currency != \"EUR\":\n",
    "        if currency == \"BOB\":\n",
    "            conv = 8.3725\n",
    "        elif currency == \"DKK\":\n",
    "            conv = 7.4374\n",
    "        elif currency == \"GEL\":\n",
    "            conv = 3.8279\n",
    "        elif currency == \"INR\":\n",
    "            conv = 88.6972\n",
    "        elif currency == \"JOD\":\n",
    "            conv = 0.8585\n",
    "        elif currency == \"KES\":\n",
    "            conv = 130.5909\n",
    "        elif currency == \"LKR\":\n",
    "            conv = 239.5998\n",
    "        elif currency == \"NGN\":\n",
    "            conv = 498.8897\n",
    "        elif currency == \"NPR\":\n",
    "            conv = 142.5807\n",
    "        elif currency == \"TRY\":\n",
    "            conv = 10.1572\n",
    "        elif currency == \"USD\":\n",
    "            conv = 1.2108\n",
    "        elif currency == \"ZAR\":\n",
    "            conv = 16.6102\n",
    "        else:\n",
    "            print(\"warning, non-defined currency in dataset\")\n",
    "            conv = 1\n",
    "\n",
    "        number = number / conv\n",
    "\n",
    "    return number\n",
    "\n",
    "def check_search_term(description, search_terms):\n",
    "    for term in search_terms:\n",
    "        if term in description:\n",
    "            return 1\n",
    "    return 0\n",
    "\n",
    "#Reading the data\n",
    "folder = Path(\"/Users/nielskreuk/Dropbox/DataScience/Exercises/NYCDSA/ScrapingProject/fmo/scrapeddata\")\n",
    "file_to_open = folder / \"fmo.csv\"\n",
    "cols = pd.read_csv(file_to_open, sep=\";\", nrows=1).columns\n",
    "df = pd.read_csv(file_to_open, sep=\";\", usecols=cols[:6]) #Leave out couple of empty columns at end of file\n",
    "\n",
    "#add a column with converted amounts in EUR as numbers\n",
    "df[\"EUR_amounts\"] = [convert_currency(amount) for amount in df[\"amount\"]]\n",
    "\n",
    "#Test investments for being other fund rather than direct\n",
    "search_terms = [\"fund\", \"vehicle\"]\n",
    "df[\"fund\"] = [check_search_term(description, search_terms) for description in df[\"description\"]]\n",
    "\n",
    "#Test economic inclusion\n",
    "search_terms = [\"inclusive\", \"inclusion\", \"affordable housing\", \"empowerment\", \"microfinance\", \"smallholder\", \"ineqaulity\", \"sme\", \"smes\", \"small and medium sized enterprise\", \"family-owned\", \"low-income\", \"job opportunities\", \"mid-market\", \"middle-market\", \"early stage\", \"unemployment\", \"local enterprise\", \"medium-sized\", \"lower mid-cap\"]\n",
    "df[\"inclusion\"] = [check_search_term(description, search_terms) for description in df[\"description\"]]\n",
    "\n",
    "#Test hunger\n",
    "search_terms = [\"food security\", \"hunger\", \"clean water\", \"drinking water\"]\n",
    "df[\"food_security\"] = [check_search_term(description, search_terms) for description in df[\"description\"]]\n",
    "\n",
    "#Test climate\n",
    "search_terms = [\"green\", \"renewable\", \"climate\", \"sustainable\", \"environmental\"]\n",
    "df[\"climate\"] = [check_search_term(description, search_terms) for description in df[\"description\"]]\n",
    "\n",
    "#Test gender\n",
    "search_terms = [\"gender\", \"female\", \"women\"]\n",
    "df[\"gender\"] = [check_search_term(description, search_terms) for description in df[\"description\"]]\n",
    "\n",
    "#Test human rights\n",
    "search_terms = [\"equal rigths\", \"human rights\", \"justice\", \"governance\", \"labor standards\", \"hse\"]\n",
    "df[\"human_rights\"] = [check_search_term(description, search_terms) for description in df[\"description\"]]\n",
    "\n",
    "#Test education\n",
    "search_terms = [\"education\"]\n",
    "df[\"education\"] = [check_search_term(description, search_terms) for description in df[\"description\"]]\n",
    "\n",
    "#Test economic growth\n",
    "search_terms = [\"economic growth\", \" gdp growth\", \"economic development\", \"emerging\", \"upcoming\", \"efficiency\", \"readily available\", \"ecosystem\"]\n",
    "df[\"economic_growth\"] = [check_search_term(description, search_terms) for description in df[\"description\"]]\n",
    "\n",
    "#Check multi-goal investments\n",
    "df[\"num_goals\"] = df[\"inclusion\"] + df[\"food_security\"] + df[\"climate\"] + df[\"gender\"] + df[\"human_rights\"] + df[\"education\"] + df[\"economic_growth\"]\n",
    "mask_multi = (df[\"num_goals\"] > 1)\n",
    "mask_noGoals = (df[\"num_goals\"] == 0)\n"
   ]
  },
  {
   "cell_type": "code",
   "execution_count": 4,
   "id": "2a6ed2c5",
   "metadata": {},
   "outputs": [
    {
     "name": "stdout",
     "output_type": "stream",
     "text": [
      "1648\n"
     ]
    }
   ],
   "source": [
    "print(df[\"num_goals\"].sum())"
   ]
  },
  {
   "cell_type": "code",
   "execution_count": 20,
   "id": "d22884b8",
   "metadata": {},
   "outputs": [],
   "source": [
    "from matplotlib import pyplot as plt\n",
    "import seaborn as sns\n"
   ]
  },
  {
   "cell_type": "code",
   "execution_count": 21,
   "id": "d0571f68",
   "metadata": {},
   "outputs": [
    {
     "data": {
      "image/png": "[encoded data removed]",
      "text/plain": [
       "<Figure size 720x504 with 1 Axes>"
      ]
     },
     "metadata": {
      "needs_background": "light"
     },
     "output_type": "display_data"
    }
   ],
   "source": [
    "fig = plt.figure(figsize =(10, 7))\n",
    "ax = fig.add_subplot(111)\n",
    "plot_data = df.loc[(df[\"fund\"] == 1), [\"EUR_amounts\"]] #+ df.loc[(df[\"fund\"] == 0), [\"EUR_amounts\"]]\n",
    "bp = ax.boxplot(plot_data, patch_artist = True,\n",
    "                notch ='True', vert = 0)\n",
    "plt.show()"
   ]
  },
  {
   "cell_type": "code",
   "execution_count": null,
   "id": "9ecde283",
   "metadata": {},
   "outputs": [],
   "source": []
  }
 ],
 "metadata": {
  "kernelspec": {
   "display_name": "Python 3",
   "language": "python",
   "name": "python3"
  },
  "language_info": {
   "codemirror_mode": {
    "name": "ipython",
    "version": 3
   },
   "file_extension": ".py",
   "mimetype": "text/x-python",
   "name": "python",
   "nbconvert_exporter": "python",
   "pygments_lexer": "ipython3",
   "version": "3.8.8"
  }
 },
 "nbformat": 4,
 "nbformat_minor": 5
}
